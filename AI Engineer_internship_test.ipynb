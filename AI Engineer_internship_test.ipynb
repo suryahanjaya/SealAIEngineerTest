{
 "cells": [
  {
   "cell_type": "markdown",
   "metadata": {
    "id": "Z49aq-v6bOcv"
   },
   "source": [
    "# Soal Seleksi Magang AI\n",
    "## Dinas Komunikasi dan Informatika (Kominfo/Komdigi)\n",
    "\n",
    "**Nama :** Surya Hanjaya  \n",
    "**Waktu Pengerjaan:** Freetime  \n",
    "**Petunjuk:**\n",
    "- Jawab semua pertanyaan dengan jelas dan **gunakan gaya bahasa anda sendiri**.\n",
    "- Untuk soal praktik, jalankan code dan sertakan output.\n",
    "- Gunakan markdown untuk menjelaskan jawaban konseptual.\n",
    "- Boleh menggunakan LLM lokal atau API (OpenAI, Gemini, AWS Bedrock Nova) atau yang free lainnya.\n",
    "\n",
    "---\n",
    "\n",
    "### Kriteria Penilaian:\n",
    "- **Bagian 1 (30 poin):** Pemahaman konsep AI & LLM\n",
    "- **Bagian 2 (30 poin):** Implementasi embedding & vector database\n",
    "- **Bagian 3 (40 poin):** Implementasi RAG system\n",
    "\n",
    "**Total: 100 poin**\n",
    "\n",
    "----\n",
    "\n",
    "# **Selamat mengerjakan!**"
   ]
  },
  {
   "cell_type": "markdown",
   "metadata": {
    "id": "58qCZXDEbOcy"
   },
   "source": [
    "## BAGIAN 1: PENGETAHUAN DASAR AI & LLM (30 poin)\n",
    "\n",
    "### 1.1 Large Language Models (10 poin)\n",
    "Sebutkan dan jelaskan minimal 5 LLM yang Anda ketahui. Bandingkan kelebihan dan kekurangan masing-masing dari segi:\n",
    "- Ukuran model\n",
    "- Performa\n",
    "- Kemudahan deployment\n",
    "- Biaya operasional\n",
    "\n",
    "\n",
    "**Jawaban:**\n",
    "```\n",
    "Tulis jawaban Anda di sini...\n",
    "```"
   ]
  },
  {
   "cell_type": "markdown",
   "metadata": {
    "id": "Dgb-6mPTbOcz"
   },
   "source": [
    "### 1.2 Pengalaman Praktis (10 poin)\n",
    "a) Apakah Anda pernah menginstall dan menjalankan AI/LLM di komputer lokal? Sebutkan tools/framework yang pernah digunakan!\n",
    "\n",
    "b) Jelaskan perbedaan antara menjalankan LLM secara lokal vs menggunakan API cloud service!\n",
    "\n",
    "c) Dalam konteks keamanan data pemerintah, kapan sebaiknya menggunakan LLM lokal vs cloud API?\n",
    "\n",
    "**Jawaban:**\n",
    "```\n",
    "Tulis jawaban Anda di sini...\n",
    "```"
   ]
  },
  {
   "cell_type": "markdown",
   "metadata": {
    "id": "hT_eP2jDbOcz"
   },
   "source": [
    "### 1.3 RAG (Retrieval Augmented Generation) (10 poin)\n",
    "a) Jelaskan konsep RAG dan mengapa penting dalam pengembangan AI aplikasi!\n",
    "\n",
    "b) Sebutkan komponen utama dalam sistem RAG!\n",
    "\n",
    "c) Apa perbedaan antara semantic search dan keyword search dalam konteks RAG?\n",
    "\n",
    "**Jawaban:**\n",
    "```\n",
    "Tulis jawaban Anda di sini...\n",
    "```"
   ]
  },
  {
   "cell_type": "markdown",
   "metadata": {
    "id": "Le31S-cpbOc0"
   },
   "source": [
    "## BAGIAN 2: PRAKTIK EMBEDDING & VECTOR DATABASE (30 poin)\n",
    "\n",
    "### 2.1 Setup Environment\n",
    "Install library yang diperlukan untuk tugas ini:"
   ]
  },
  {
   "cell_type": "code",
   "execution_count": 1,
   "metadata": {
    "id": "4ocdLGdObOc0"
   },
   "outputs": [
    {
     "name": "stdout",
     "output_type": "stream",
     "text": [
      "Requirement already satisfied: sentence-transformers in c:\\users\\asus zenbook\\appdata\\local\\programs\\python\\python312\\lib\\site-packages (5.0.0)\n",
      "Requirement already satisfied: transformers<5.0.0,>=4.41.0 in c:\\users\\asus zenbook\\appdata\\local\\programs\\python\\python312\\lib\\site-packages (from sentence-transformers) (4.53.3)\n",
      "Requirement already satisfied: tqdm in c:\\users\\asus zenbook\\appdata\\local\\programs\\python\\python312\\lib\\site-packages (from sentence-transformers) (4.67.1)\n",
      "Requirement already satisfied: torch>=1.11.0 in c:\\users\\asus zenbook\\appdata\\local\\programs\\python\\python312\\lib\\site-packages (from sentence-transformers) (2.5.1)\n",
      "Requirement already satisfied: scikit-learn in c:\\users\\asus zenbook\\appdata\\local\\programs\\python\\python312\\lib\\site-packages (from sentence-transformers) (1.6.0)\n",
      "Requirement already satisfied: scipy in c:\\users\\asus zenbook\\appdata\\local\\programs\\python\\python312\\lib\\site-packages (from sentence-transformers) (1.14.1)\n",
      "Requirement already satisfied: huggingface-hub>=0.20.0 in c:\\users\\asus zenbook\\appdata\\local\\programs\\python\\python312\\lib\\site-packages (from sentence-transformers) (0.33.5)\n",
      "Requirement already satisfied: Pillow in c:\\users\\asus zenbook\\appdata\\local\\programs\\python\\python312\\lib\\site-packages (from sentence-transformers) (11.0.0)\n",
      "Requirement already satisfied: typing_extensions>=4.5.0 in c:\\users\\asus zenbook\\appdata\\local\\programs\\python\\python312\\lib\\site-packages (from sentence-transformers) (4.12.2)\n",
      "Requirement already satisfied: filelock in c:\\users\\asus zenbook\\appdata\\local\\programs\\python\\python312\\lib\\site-packages (from transformers<5.0.0,>=4.41.0->sentence-transformers) (3.16.1)\n",
      "Requirement already satisfied: numpy>=1.17 in c:\\users\\asus zenbook\\appdata\\local\\programs\\python\\python312\\lib\\site-packages (from transformers<5.0.0,>=4.41.0->sentence-transformers) (2.0.2)\n",
      "Requirement already satisfied: packaging>=20.0 in c:\\users\\asus zenbook\\appdata\\roaming\\python\\python312\\site-packages (from transformers<5.0.0,>=4.41.0->sentence-transformers) (24.1)\n",
      "Requirement already satisfied: pyyaml>=5.1 in c:\\users\\asus zenbook\\appdata\\local\\programs\\python\\python312\\lib\\site-packages (from transformers<5.0.0,>=4.41.0->sentence-transformers) (6.0.1)\n",
      "Requirement already satisfied: regex!=2019.12.17 in c:\\users\\asus zenbook\\appdata\\local\\programs\\python\\python312\\lib\\site-packages (from transformers<5.0.0,>=4.41.0->sentence-transformers) (2024.11.6)\n",
      "Requirement already satisfied: requests in c:\\users\\asus zenbook\\appdata\\local\\programs\\python\\python312\\lib\\site-packages (from transformers<5.0.0,>=4.41.0->sentence-transformers) (2.31.0)\n",
      "Requirement already satisfied: tokenizers<0.22,>=0.21 in c:\\users\\asus zenbook\\appdata\\local\\programs\\python\\python312\\lib\\site-packages (from transformers<5.0.0,>=4.41.0->sentence-transformers) (0.21.2)\n",
      "Requirement already satisfied: safetensors>=0.4.3 in c:\\users\\asus zenbook\\appdata\\local\\programs\\python\\python312\\lib\\site-packages (from transformers<5.0.0,>=4.41.0->sentence-transformers) (0.5.3)\n",
      "Requirement already satisfied: fsspec>=2023.5.0 in c:\\users\\asus zenbook\\appdata\\local\\programs\\python\\python312\\lib\\site-packages (from huggingface-hub>=0.20.0->sentence-transformers) (2024.10.0)\n",
      "Requirement already satisfied: networkx in c:\\users\\asus zenbook\\appdata\\local\\programs\\python\\python312\\lib\\site-packages (from torch>=1.11.0->sentence-transformers) (3.4.2)\n",
      "Requirement already satisfied: jinja2 in c:\\users\\asus zenbook\\appdata\\local\\programs\\python\\python312\\lib\\site-packages (from torch>=1.11.0->sentence-transformers) (3.1.2)\n",
      "Requirement already satisfied: setuptools in c:\\users\\asus zenbook\\appdata\\local\\programs\\python\\python312\\lib\\site-packages (from torch>=1.11.0->sentence-transformers) (75.6.0)\n",
      "Requirement already satisfied: sympy==1.13.1 in c:\\users\\asus zenbook\\appdata\\local\\programs\\python\\python312\\lib\\site-packages (from torch>=1.11.0->sentence-transformers) (1.13.1)\n",
      "Requirement already satisfied: mpmath<1.4,>=1.1.0 in c:\\users\\asus zenbook\\appdata\\local\\programs\\python\\python312\\lib\\site-packages (from sympy==1.13.1->torch>=1.11.0->sentence-transformers) (1.3.0)\n",
      "Requirement already satisfied: colorama in c:\\users\\asus zenbook\\appdata\\local\\programs\\python\\python312\\lib\\site-packages (from tqdm->sentence-transformers) (0.4.6)\n",
      "Requirement already satisfied: MarkupSafe>=2.0 in c:\\users\\asus zenbook\\appdata\\local\\programs\\python\\python312\\lib\\site-packages (from jinja2->torch>=1.11.0->sentence-transformers) (2.1.3)\n",
      "Requirement already satisfied: charset-normalizer<4,>=2 in c:\\users\\asus zenbook\\appdata\\local\\programs\\python\\python312\\lib\\site-packages (from requests->transformers<5.0.0,>=4.41.0->sentence-transformers) (3.3.2)\n",
      "Requirement already satisfied: idna<4,>=2.5 in c:\\users\\asus zenbook\\appdata\\local\\programs\\python\\python312\\lib\\site-packages (from requests->transformers<5.0.0,>=4.41.0->sentence-transformers) (3.4)\n",
      "Requirement already satisfied: urllib3<3,>=1.21.1 in c:\\users\\asus zenbook\\appdata\\local\\programs\\python\\python312\\lib\\site-packages (from requests->transformers<5.0.0,>=4.41.0->sentence-transformers) (2.1.0)\n",
      "Requirement already satisfied: certifi>=2017.4.17 in c:\\users\\asus zenbook\\appdata\\local\\programs\\python\\python312\\lib\\site-packages (from requests->transformers<5.0.0,>=4.41.0->sentence-transformers) (2023.11.17)\n",
      "Requirement already satisfied: joblib>=1.2.0 in c:\\users\\asus zenbook\\appdata\\local\\programs\\python\\python312\\lib\\site-packages (from scikit-learn->sentence-transformers) (1.4.2)\n",
      "Requirement already satisfied: threadpoolctl>=3.1.0 in c:\\users\\asus zenbook\\appdata\\local\\programs\\python\\python312\\lib\\site-packages (from scikit-learn->sentence-transformers) (3.5.0)\n",
      "Requirement already satisfied: chromadb in c:\\users\\asus zenbook\\appdata\\local\\programs\\python\\python312\\lib\\site-packages (1.0.15)\n",
      "Requirement already satisfied: build>=1.0.3 in c:\\users\\asus zenbook\\appdata\\local\\programs\\python\\python312\\lib\\site-packages (from chromadb) (1.2.2.post1)\n",
      "Requirement already satisfied: pydantic>=1.9 in c:\\users\\asus zenbook\\appdata\\local\\programs\\python\\python312\\lib\\site-packages (from chromadb) (2.10.3)\n",
      "Requirement already satisfied: pybase64>=1.4.1 in c:\\users\\asus zenbook\\appdata\\local\\programs\\python\\python312\\lib\\site-packages (from chromadb) (1.4.1)\n",
      "Requirement already satisfied: uvicorn>=0.18.3 in c:\\users\\asus zenbook\\appdata\\local\\programs\\python\\python312\\lib\\site-packages (from uvicorn[standard]>=0.18.3->chromadb) (0.35.0)\n",
      "Requirement already satisfied: numpy>=1.22.5 in c:\\users\\asus zenbook\\appdata\\local\\programs\\python\\python312\\lib\\site-packages (from chromadb) (2.0.2)\n",
      "Requirement already satisfied: posthog<6.0.0,>=2.4.0 in c:\\users\\asus zenbook\\appdata\\local\\programs\\python\\python312\\lib\\site-packages (from chromadb) (5.4.0)\n",
      "Requirement already satisfied: typing-extensions>=4.5.0 in c:\\users\\asus zenbook\\appdata\\local\\programs\\python\\python312\\lib\\site-packages (from chromadb) (4.12.2)\n",
      "Requirement already satisfied: onnxruntime>=1.14.1 in c:\\users\\asus zenbook\\appdata\\local\\programs\\python\\python312\\lib\\site-packages (from chromadb) (1.22.1)\n",
      "Requirement already satisfied: opentelemetry-api>=1.2.0 in c:\\users\\asus zenbook\\appdata\\local\\programs\\python\\python312\\lib\\site-packages (from chromadb) (1.35.0)\n",
      "Requirement already satisfied: opentelemetry-exporter-otlp-proto-grpc>=1.2.0 in c:\\users\\asus zenbook\\appdata\\local\\programs\\python\\python312\\lib\\site-packages (from chromadb) (1.35.0)\n",
      "Requirement already satisfied: opentelemetry-sdk>=1.2.0 in c:\\users\\asus zenbook\\appdata\\local\\programs\\python\\python312\\lib\\site-packages (from chromadb) (1.35.0)\n",
      "Requirement already satisfied: tokenizers>=0.13.2 in c:\\users\\asus zenbook\\appdata\\local\\programs\\python\\python312\\lib\\site-packages (from chromadb) (0.21.2)\n",
      "Requirement already satisfied: pypika>=0.48.9 in c:\\users\\asus zenbook\\appdata\\local\\programs\\python\\python312\\lib\\site-packages (from chromadb) (0.48.9)\n",
      "Requirement already satisfied: tqdm>=4.65.0 in c:\\users\\asus zenbook\\appdata\\local\\programs\\python\\python312\\lib\\site-packages (from chromadb) (4.67.1)\n",
      "Requirement already satisfied: overrides>=7.3.1 in c:\\users\\asus zenbook\\appdata\\local\\programs\\python\\python312\\lib\\site-packages (from chromadb) (7.7.0)\n",
      "Requirement already satisfied: importlib-resources in c:\\users\\asus zenbook\\appdata\\local\\programs\\python\\python312\\lib\\site-packages (from chromadb) (6.5.2)\n",
      "Requirement already satisfied: grpcio>=1.58.0 in c:\\users\\asus zenbook\\appdata\\local\\programs\\python\\python312\\lib\\site-packages (from chromadb) (1.68.1)\n",
      "Requirement already satisfied: bcrypt>=4.0.1 in c:\\users\\asus zenbook\\appdata\\local\\programs\\python\\python312\\lib\\site-packages (from chromadb) (4.3.0)\n",
      "Requirement already satisfied: typer>=0.9.0 in c:\\users\\asus zenbook\\appdata\\local\\programs\\python\\python312\\lib\\site-packages (from chromadb) (0.16.0)\n",
      "Requirement already satisfied: kubernetes>=28.1.0 in c:\\users\\asus zenbook\\appdata\\local\\programs\\python\\python312\\lib\\site-packages (from chromadb) (33.1.0)\n",
      "Requirement already satisfied: tenacity>=8.2.3 in c:\\users\\asus zenbook\\appdata\\local\\programs\\python\\python312\\lib\\site-packages (from chromadb) (9.0.0)\n",
      "Requirement already satisfied: pyyaml>=6.0.0 in c:\\users\\asus zenbook\\appdata\\local\\programs\\python\\python312\\lib\\site-packages (from chromadb) (6.0.1)\n",
      "Requirement already satisfied: mmh3>=4.0.1 in c:\\users\\asus zenbook\\appdata\\local\\programs\\python\\python312\\lib\\site-packages (from chromadb) (5.1.0)\n",
      "Requirement already satisfied: orjson>=3.9.12 in c:\\users\\asus zenbook\\appdata\\local\\programs\\python\\python312\\lib\\site-packages (from chromadb) (3.11.0)\n",
      "Requirement already satisfied: httpx>=0.27.0 in c:\\users\\asus zenbook\\appdata\\local\\programs\\python\\python312\\lib\\site-packages (from chromadb) (0.28.1)\n",
      "Requirement already satisfied: rich>=10.11.0 in c:\\users\\asus zenbook\\appdata\\local\\programs\\python\\python312\\lib\\site-packages (from chromadb) (13.9.4)\n",
      "Requirement already satisfied: jsonschema>=4.19.0 in c:\\users\\asus zenbook\\appdata\\local\\programs\\python\\python312\\lib\\site-packages (from chromadb) (4.20.0)\n",
      "Requirement already satisfied: requests<3.0,>=2.7 in c:\\users\\asus zenbook\\appdata\\local\\programs\\python\\python312\\lib\\site-packages (from posthog<6.0.0,>=2.4.0->chromadb) (2.31.0)\n",
      "Requirement already satisfied: six>=1.5 in c:\\users\\asus zenbook\\appdata\\roaming\\python\\python312\\site-packages (from posthog<6.0.0,>=2.4.0->chromadb) (1.16.0)\n",
      "Requirement already satisfied: python-dateutil>=2.2 in c:\\users\\asus zenbook\\appdata\\roaming\\python\\python312\\site-packages (from posthog<6.0.0,>=2.4.0->chromadb) (2.9.0.post0)\n",
      "Requirement already satisfied: backoff>=1.10.0 in c:\\users\\asus zenbook\\appdata\\local\\programs\\python\\python312\\lib\\site-packages (from posthog<6.0.0,>=2.4.0->chromadb) (2.2.1)\n",
      "Requirement already satisfied: distro>=1.5.0 in c:\\users\\asus zenbook\\appdata\\local\\programs\\python\\python312\\lib\\site-packages (from posthog<6.0.0,>=2.4.0->chromadb) (1.9.0)\n",
      "Requirement already satisfied: charset-normalizer<4,>=2 in c:\\users\\asus zenbook\\appdata\\local\\programs\\python\\python312\\lib\\site-packages (from requests<3.0,>=2.7->posthog<6.0.0,>=2.4.0->chromadb) (3.3.2)\n",
      "Requirement already satisfied: idna<4,>=2.5 in c:\\users\\asus zenbook\\appdata\\local\\programs\\python\\python312\\lib\\site-packages (from requests<3.0,>=2.7->posthog<6.0.0,>=2.4.0->chromadb) (3.4)\n",
      "Requirement already satisfied: urllib3<3,>=1.21.1 in c:\\users\\asus zenbook\\appdata\\local\\programs\\python\\python312\\lib\\site-packages (from requests<3.0,>=2.7->posthog<6.0.0,>=2.4.0->chromadb) (2.1.0)\n",
      "Requirement already satisfied: certifi>=2017.4.17 in c:\\users\\asus zenbook\\appdata\\local\\programs\\python\\python312\\lib\\site-packages (from requests<3.0,>=2.7->posthog<6.0.0,>=2.4.0->chromadb) (2023.11.17)\n",
      "Requirement already satisfied: packaging>=19.1 in c:\\users\\asus zenbook\\appdata\\roaming\\python\\python312\\site-packages (from build>=1.0.3->chromadb) (24.1)\n",
      "Requirement already satisfied: pyproject_hooks in c:\\users\\asus zenbook\\appdata\\local\\programs\\python\\python312\\lib\\site-packages (from build>=1.0.3->chromadb) (1.2.0)\n",
      "Requirement already satisfied: colorama in c:\\users\\asus zenbook\\appdata\\local\\programs\\python\\python312\\lib\\site-packages (from build>=1.0.3->chromadb) (0.4.6)\n",
      "Requirement already satisfied: anyio in c:\\users\\asus zenbook\\appdata\\local\\programs\\python\\python312\\lib\\site-packages (from httpx>=0.27.0->chromadb) (4.1.0)\n",
      "Requirement already satisfied: httpcore==1.* in c:\\users\\asus zenbook\\appdata\\local\\programs\\python\\python312\\lib\\site-packages (from httpx>=0.27.0->chromadb) (1.0.2)\n",
      "Requirement already satisfied: h11<0.15,>=0.13 in c:\\users\\asus zenbook\\appdata\\local\\programs\\python\\python312\\lib\\site-packages (from httpcore==1.*->httpx>=0.27.0->chromadb) (0.14.0)\n",
      "Requirement already satisfied: attrs>=22.2.0 in c:\\users\\asus zenbook\\appdata\\local\\programs\\python\\python312\\lib\\site-packages (from jsonschema>=4.19.0->chromadb) (23.1.0)\n",
      "Requirement already satisfied: jsonschema-specifications>=2023.03.6 in c:\\users\\asus zenbook\\appdata\\local\\programs\\python\\python312\\lib\\site-packages (from jsonschema>=4.19.0->chromadb) (2023.11.1)\n",
      "Requirement already satisfied: referencing>=0.28.4 in c:\\users\\asus zenbook\\appdata\\local\\programs\\python\\python312\\lib\\site-packages (from jsonschema>=4.19.0->chromadb) (0.31.0)\n",
      "Requirement already satisfied: rpds-py>=0.7.1 in c:\\users\\asus zenbook\\appdata\\local\\programs\\python\\python312\\lib\\site-packages (from jsonschema>=4.19.0->chromadb) (0.13.1)\n",
      "Requirement already satisfied: google-auth>=1.0.1 in c:\\users\\asus zenbook\\appdata\\local\\programs\\python\\python312\\lib\\site-packages (from kubernetes>=28.1.0->chromadb) (2.36.0)\n",
      "Requirement already satisfied: websocket-client!=0.40.0,!=0.41.*,!=0.42.*,>=0.32.0 in c:\\users\\asus zenbook\\appdata\\local\\programs\\python\\python312\\lib\\site-packages (from kubernetes>=28.1.0->chromadb) (1.8.0)\n",
      "Requirement already satisfied: requests-oauthlib in c:\\users\\asus zenbook\\appdata\\local\\programs\\python\\python312\\lib\\site-packages (from kubernetes>=28.1.0->chromadb) (2.0.0)\n",
      "Requirement already satisfied: oauthlib>=3.2.2 in c:\\users\\asus zenbook\\appdata\\local\\programs\\python\\python312\\lib\\site-packages (from kubernetes>=28.1.0->chromadb) (3.3.1)\n",
      "Requirement already satisfied: durationpy>=0.7 in c:\\users\\asus zenbook\\appdata\\local\\programs\\python\\python312\\lib\\site-packages (from kubernetes>=28.1.0->chromadb) (0.10)\n",
      "Requirement already satisfied: cachetools<6.0,>=2.0.0 in c:\\users\\asus zenbook\\appdata\\local\\programs\\python\\python312\\lib\\site-packages (from google-auth>=1.0.1->kubernetes>=28.1.0->chromadb) (5.5.0)\n",
      "Requirement already satisfied: pyasn1-modules>=0.2.1 in c:\\users\\asus zenbook\\appdata\\local\\programs\\python\\python312\\lib\\site-packages (from google-auth>=1.0.1->kubernetes>=28.1.0->chromadb) (0.4.1)\n",
      "Requirement already satisfied: rsa<5,>=3.1.4 in c:\\users\\asus zenbook\\appdata\\local\\programs\\python\\python312\\lib\\site-packages (from google-auth>=1.0.1->kubernetes>=28.1.0->chromadb) (4.9)\n",
      "Requirement already satisfied: pyasn1>=0.1.3 in c:\\users\\asus zenbook\\appdata\\local\\programs\\python\\python312\\lib\\site-packages (from rsa<5,>=3.1.4->google-auth>=1.0.1->kubernetes>=28.1.0->chromadb) (0.6.1)\n",
      "Requirement already satisfied: coloredlogs in c:\\users\\asus zenbook\\appdata\\local\\programs\\python\\python312\\lib\\site-packages (from onnxruntime>=1.14.1->chromadb) (15.0.1)\n",
      "Requirement already satisfied: flatbuffers in c:\\users\\asus zenbook\\appdata\\local\\programs\\python\\python312\\lib\\site-packages (from onnxruntime>=1.14.1->chromadb) (24.3.25)\n",
      "Requirement already satisfied: protobuf in c:\\users\\asus zenbook\\appdata\\local\\programs\\python\\python312\\lib\\site-packages (from onnxruntime>=1.14.1->chromadb) (5.29.0)\n",
      "Requirement already satisfied: sympy in c:\\users\\asus zenbook\\appdata\\local\\programs\\python\\python312\\lib\\site-packages (from onnxruntime>=1.14.1->chromadb) (1.13.1)\n",
      "Requirement already satisfied: importlib-metadata<8.8.0,>=6.0 in c:\\users\\asus zenbook\\appdata\\local\\programs\\python\\python312\\lib\\site-packages (from opentelemetry-api>=1.2.0->chromadb) (8.7.0)\n",
      "Requirement already satisfied: zipp>=3.20 in c:\\users\\asus zenbook\\appdata\\local\\programs\\python\\python312\\lib\\site-packages (from importlib-metadata<8.8.0,>=6.0->opentelemetry-api>=1.2.0->chromadb) (3.23.0)\n",
      "Requirement already satisfied: googleapis-common-protos~=1.57 in c:\\users\\asus zenbook\\appdata\\local\\programs\\python\\python312\\lib\\site-packages (from opentelemetry-exporter-otlp-proto-grpc>=1.2.0->chromadb) (1.66.0)\n",
      "Requirement already satisfied: opentelemetry-exporter-otlp-proto-common==1.35.0 in c:\\users\\asus zenbook\\appdata\\local\\programs\\python\\python312\\lib\\site-packages (from opentelemetry-exporter-otlp-proto-grpc>=1.2.0->chromadb) (1.35.0)\n",
      "Requirement already satisfied: opentelemetry-proto==1.35.0 in c:\\users\\asus zenbook\\appdata\\local\\programs\\python\\python312\\lib\\site-packages (from opentelemetry-exporter-otlp-proto-grpc>=1.2.0->chromadb) (1.35.0)\n",
      "Requirement already satisfied: opentelemetry-semantic-conventions==0.56b0 in c:\\users\\asus zenbook\\appdata\\local\\programs\\python\\python312\\lib\\site-packages (from opentelemetry-sdk>=1.2.0->chromadb) (0.56b0)\n",
      "Requirement already satisfied: annotated-types>=0.6.0 in c:\\users\\asus zenbook\\appdata\\local\\programs\\python\\python312\\lib\\site-packages (from pydantic>=1.9->chromadb) (0.7.0)\n",
      "Requirement already satisfied: pydantic-core==2.27.1 in c:\\users\\asus zenbook\\appdata\\local\\programs\\python\\python312\\lib\\site-packages (from pydantic>=1.9->chromadb) (2.27.1)\n",
      "Requirement already satisfied: markdown-it-py>=2.2.0 in c:\\users\\asus zenbook\\appdata\\local\\programs\\python\\python312\\lib\\site-packages (from rich>=10.11.0->chromadb) (3.0.0)\n",
      "Requirement already satisfied: pygments<3.0.0,>=2.13.0 in c:\\users\\asus zenbook\\appdata\\roaming\\python\\python312\\site-packages (from rich>=10.11.0->chromadb) (2.18.0)\n",
      "Requirement already satisfied: mdurl~=0.1 in c:\\users\\asus zenbook\\appdata\\local\\programs\\python\\python312\\lib\\site-packages (from markdown-it-py>=2.2.0->rich>=10.11.0->chromadb) (0.1.2)\n",
      "Requirement already satisfied: huggingface-hub<1.0,>=0.16.4 in c:\\users\\asus zenbook\\appdata\\local\\programs\\python\\python312\\lib\\site-packages (from tokenizers>=0.13.2->chromadb) (0.33.5)\n",
      "Requirement already satisfied: filelock in c:\\users\\asus zenbook\\appdata\\local\\programs\\python\\python312\\lib\\site-packages (from huggingface-hub<1.0,>=0.16.4->tokenizers>=0.13.2->chromadb) (3.16.1)\n",
      "Requirement already satisfied: fsspec>=2023.5.0 in c:\\users\\asus zenbook\\appdata\\local\\programs\\python\\python312\\lib\\site-packages (from huggingface-hub<1.0,>=0.16.4->tokenizers>=0.13.2->chromadb) (2024.10.0)\n",
      "Requirement already satisfied: click>=8.0.0 in c:\\users\\asus zenbook\\appdata\\local\\programs\\python\\python312\\lib\\site-packages (from typer>=0.9.0->chromadb) (8.1.7)\n",
      "Requirement already satisfied: shellingham>=1.3.0 in c:\\users\\asus zenbook\\appdata\\local\\programs\\python\\python312\\lib\\site-packages (from typer>=0.9.0->chromadb) (1.5.4)\n",
      "Requirement already satisfied: httptools>=0.6.3 in c:\\users\\asus zenbook\\appdata\\local\\programs\\python\\python312\\lib\\site-packages (from uvicorn[standard]>=0.18.3->chromadb) (0.6.4)\n",
      "Requirement already satisfied: python-dotenv>=0.13 in c:\\users\\asus zenbook\\appdata\\local\\programs\\python\\python312\\lib\\site-packages (from uvicorn[standard]>=0.18.3->chromadb) (1.0.1)\n",
      "Requirement already satisfied: watchfiles>=0.13 in c:\\users\\asus zenbook\\appdata\\local\\programs\\python\\python312\\lib\\site-packages (from uvicorn[standard]>=0.18.3->chromadb) (1.1.0)\n",
      "Requirement already satisfied: websockets>=10.4 in c:\\users\\asus zenbook\\appdata\\local\\programs\\python\\python312\\lib\\site-packages (from uvicorn[standard]>=0.18.3->chromadb) (15.0.1)\n",
      "Requirement already satisfied: sniffio>=1.1 in c:\\users\\asus zenbook\\appdata\\local\\programs\\python\\python312\\lib\\site-packages (from anyio->httpx>=0.27.0->chromadb) (1.3.0)\n",
      "Requirement already satisfied: humanfriendly>=9.1 in c:\\users\\asus zenbook\\appdata\\local\\programs\\python\\python312\\lib\\site-packages (from coloredlogs->onnxruntime>=1.14.1->chromadb) (10.0)\n",
      "Requirement already satisfied: pyreadline3 in c:\\users\\asus zenbook\\appdata\\local\\programs\\python\\python312\\lib\\site-packages (from humanfriendly>=9.1->coloredlogs->onnxruntime>=1.14.1->chromadb) (3.5.4)\n",
      "Requirement already satisfied: mpmath<1.4,>=1.1.0 in c:\\users\\asus zenbook\\appdata\\local\\programs\\python\\python312\\lib\\site-packages (from sympy->onnxruntime>=1.14.1->chromadb) (1.3.0)\n",
      "Requirement already satisfied: pandas in c:\\users\\asus zenbook\\appdata\\local\\programs\\python\\python312\\lib\\site-packages (2.2.3)\n",
      "Requirement already satisfied: numpy>=1.26.0 in c:\\users\\asus zenbook\\appdata\\local\\programs\\python\\python312\\lib\\site-packages (from pandas) (2.0.2)\n",
      "Requirement already satisfied: python-dateutil>=2.8.2 in c:\\users\\asus zenbook\\appdata\\roaming\\python\\python312\\site-packages (from pandas) (2.9.0.post0)\n",
      "Requirement already satisfied: pytz>=2020.1 in c:\\users\\asus zenbook\\appdata\\local\\programs\\python\\python312\\lib\\site-packages (from pandas) (2024.2)\n",
      "Requirement already satisfied: tzdata>=2022.7 in c:\\users\\asus zenbook\\appdata\\local\\programs\\python\\python312\\lib\\site-packages (from pandas) (2024.2)\n",
      "Requirement already satisfied: six>=1.5 in c:\\users\\asus zenbook\\appdata\\roaming\\python\\python312\\site-packages (from python-dateutil>=2.8.2->pandas) (1.16.0)\n",
      "Requirement already satisfied: numpy in c:\\users\\asus zenbook\\appdata\\local\\programs\\python\\python312\\lib\\site-packages (2.0.2)\n"
     ]
    },
    {
     "name": "stderr",
     "output_type": "stream",
     "text": [
      "ERROR: Could not find a version that satisfies the requirement sqlite3 (from versions: none)\n",
      "ERROR: No matching distribution found for sqlite3\n"
     ]
    },
    {
     "name": "stdout",
     "output_type": "stream",
     "text": [
      "Requirement already satisfied: openai in c:\\users\\asus zenbook\\appdata\\local\\programs\\python\\python312\\lib\\site-packages (1.97.1)\n",
      "Requirement already satisfied: anyio<5,>=3.5.0 in c:\\users\\asus zenbook\\appdata\\local\\programs\\python\\python312\\lib\\site-packages (from openai) (4.1.0)\n",
      "Requirement already satisfied: distro<2,>=1.7.0 in c:\\users\\asus zenbook\\appdata\\local\\programs\\python\\python312\\lib\\site-packages (from openai) (1.9.0)\n",
      "Requirement already satisfied: httpx<1,>=0.23.0 in c:\\users\\asus zenbook\\appdata\\local\\programs\\python\\python312\\lib\\site-packages (from openai) (0.28.1)\n",
      "Requirement already satisfied: jiter<1,>=0.4.0 in c:\\users\\asus zenbook\\appdata\\local\\programs\\python\\python312\\lib\\site-packages (from openai) (0.10.0)\n",
      "Requirement already satisfied: pydantic<3,>=1.9.0 in c:\\users\\asus zenbook\\appdata\\local\\programs\\python\\python312\\lib\\site-packages (from openai) (2.10.3)\n",
      "Requirement already satisfied: sniffio in c:\\users\\asus zenbook\\appdata\\local\\programs\\python\\python312\\lib\\site-packages (from openai) (1.3.0)\n",
      "Requirement already satisfied: tqdm>4 in c:\\users\\asus zenbook\\appdata\\local\\programs\\python\\python312\\lib\\site-packages (from openai) (4.67.1)\n",
      "Requirement already satisfied: typing-extensions<5,>=4.11 in c:\\users\\asus zenbook\\appdata\\local\\programs\\python\\python312\\lib\\site-packages (from openai) (4.12.2)\n",
      "Requirement already satisfied: idna>=2.8 in c:\\users\\asus zenbook\\appdata\\local\\programs\\python\\python312\\lib\\site-packages (from anyio<5,>=3.5.0->openai) (3.4)\n",
      "Requirement already satisfied: certifi in c:\\users\\asus zenbook\\appdata\\local\\programs\\python\\python312\\lib\\site-packages (from httpx<1,>=0.23.0->openai) (2023.11.17)\n",
      "Requirement already satisfied: httpcore==1.* in c:\\users\\asus zenbook\\appdata\\local\\programs\\python\\python312\\lib\\site-packages (from httpx<1,>=0.23.0->openai) (1.0.2)\n",
      "Requirement already satisfied: h11<0.15,>=0.13 in c:\\users\\asus zenbook\\appdata\\local\\programs\\python\\python312\\lib\\site-packages (from httpcore==1.*->httpx<1,>=0.23.0->openai) (0.14.0)\n",
      "Requirement already satisfied: annotated-types>=0.6.0 in c:\\users\\asus zenbook\\appdata\\local\\programs\\python\\python312\\lib\\site-packages (from pydantic<3,>=1.9.0->openai) (0.7.0)\n",
      "Requirement already satisfied: pydantic-core==2.27.1 in c:\\users\\asus zenbook\\appdata\\local\\programs\\python\\python312\\lib\\site-packages (from pydantic<3,>=1.9.0->openai) (2.27.1)\n",
      "Requirement already satisfied: colorama in c:\\users\\asus zenbook\\appdata\\local\\programs\\python\\python312\\lib\\site-packages (from tqdm>4->openai) (0.4.6)\n"
     ]
    }
   ],
   "source": [
    "# Install required libraries\n",
    "!pip install sentence-transformers\n",
    "!pip install chromadb\n",
    "!pip install pandas\n",
    "!pip install numpy\n",
    "!pip install sqlite3\n",
    "# Uncomment salah satu sesuai pilihan LLM\n",
    "!pip install openai\n",
    "# !pip install google-generativeai\n",
    "# !pip install boto3  # untuk AWS Bedrock"
   ]
  },
  {
   "cell_type": "markdown",
   "metadata": {
    "id": "fwzn5a-bbOc1"
   },
   "source": [
    "### 2.2 Simulasi Data SQL (15 poin)\n",
    "Buat simulasi database SQL sederhana dengan data pegawai pemerintah, lalu konversi ke embedding vector:"
   ]
  },
  {
   "cell_type": "code",
   "execution_count": null,
   "metadata": {
    "id": "8Z2IZ9VxbOc1"
   },
   "outputs": [],
   "source": [
    "import sqlite3\n",
    "import pandas as pd\n",
    "import numpy as np\n",
    "from sentence_transformers import SentenceTransformer\n",
    "import chromadb\n",
    "\n",
    "# TUGAS: Buat database SQLite dengan tabel 'pegawai' berisi minimal kolom:\n",
    "# - id, nama, nip, jabatan, unit_kerja, pendidikan, spesialisasi, pengalaman_kerja\n",
    "# Isi dengan minimal 10 data dummy yang realistis\n",
    "\n",
    "# Tulis code Anda di sini:\n",
    "\n",
    "\n",
    "# TUGAS: Query data dan tampilkan\n",
    "# Tulis code Anda di sini:\n",
    "\n",
    "\n",
    "# TUGAS: Konversi data ke text format yang informatif untuk embedding\n",
    "# Gabungkan informasi penting jadi satu string per pegawai\n",
    "# Tulis code Anda di sini:\n",
    "\n"
   ]
  },
  {
   "cell_type": "markdown",
   "metadata": {
    "id": "tHYGTzhKbOc1"
   },
   "source": [
    "### 2.3 Embedding & Vector Storage (15 poin)\n",
    "Implementasikan proses embedding dan penyimpanan ke vector database:\n",
    "\n",
    "#### TUGAS:\n",
    "##### 1. Load sentence transformer model lokal (misal: 'all-MiniLM-L6-v2') atau dari Hugging Face dan boleh menggunakan model lain yang sesuai\n",
    "##### 2. Generate embeddings untuk setiap text data pegawai\n",
    "##### 3. Store embeddings ke ChromaDB\n",
    "##### 4. Similarity search"
   ]
  },
  {
   "cell_type": "code",
   "execution_count": null,
   "metadata": {
    "id": "bOETX4hfbOc2"
   },
   "outputs": [],
   "source": [
    "#Generate embeddings untuk setiap text data pegawai\n",
    "#Store embeddings ke ChromaDB\n",
    "# Tulis code Anda di sini:\n",
    "\n",
    "\n"
   ]
  },
  {
   "cell_type": "markdown",
   "metadata": {
    "id": "HcalalP9dE7P"
   },
   "source": [
    "#### TUGAS: Test similarity search\n",
    "##### Coba query seperti: \"pegawai dengan keahlian IT\", \"staff dengan pendidikan S2\""
   ]
  },
  {
   "cell_type": "code",
   "execution_count": null,
   "metadata": {
    "id": "NA6MkQZrdN3e"
   },
   "outputs": [],
   "source": [
    "# Coba query seperti: \"pegawai dengan keahlian IT\", \"staff dengan pendidikan S2\"\n",
    "# Tulis code Anda di sini:"
   ]
  },
  {
   "cell_type": "markdown",
   "metadata": {
    "id": "IdgsK2S5bOc2"
   },
   "source": [
    "## BAGIAN 3: IMPLEMENTASI RAG SYSTEM (40 poin)\n",
    "\n",
    "### 3.1 RAG Implementation (25 poin)\n",
    "Setup Implementasikan sistem RAG lengkap untuk chatbot:  \n",
    "\n",
    "1. Boleh menggunakan tools gui lain untuk implementasi seperti langflow, dify, atau yang lain :\n",
    "\n",
    "2. atau menggunakan Langchain (code disini):\n",
    "3. Case Datasets/knowledge boleh menggunakan tema apapun."
   ]
  },
  {
   "cell_type": "code",
   "execution_count": null,
   "metadata": {
    "id": "tSlZ0kQYbOc2"
   },
   "outputs": [],
   "source": [
    "# TUGAS: Setup koneksi ke LLM pilihan Anda dan Buat RAG degan Langchain.\n",
    "# Tulis code setup Anda di sini:\n",
    "\n"
   ]
  },
  {
   "cell_type": "markdown",
   "metadata": {
    "id": "zhuQ74b_bOc3"
   },
   "source": [
    "### 3.2 Prompt Optimization (15 poin)\n",
    "Demonstrasikan teknik optimasi prompt dari rag yang anda buat:\n",
    "\n",
    "tampilkan perbedaan result disini."
   ]
  },
  {
   "cell_type": "code",
   "execution_count": null,
   "metadata": {
    "id": "nhM9Q4VSbOc3"
   },
   "outputs": [],
   "source": [
    "# TUGAS: Buat 3 versi prompt yang berbeda untuk task yang sama\n",
    "# Tunjukkan perbedaan hasil dan jelaskan mengapa\n",
    "\n",
    "# Contoh task: \"Analisis kebutuhan training AI untuk pegawai\"\n",
    "\n",
    "# Prompt Version 1: Basic\n",
    "prompt_v1 = \"\"\"\n",
    "Tulis prompt dasar Anda di sini\n",
    "\"\"\"\n",
    "\n",
    "# Prompt Version 2: Structured\n",
    "prompt_v2 = \"\"\"\n",
    "Tulis prompt dengan struktur yang lebih baik\n",
    "\"\"\"\n",
    "\n",
    "# Prompt Version 3: Optimized with examples\n",
    "prompt_v3 = \"\"\"\n",
    "Tulis prompt yang dioptimasi dengan contoh dan context\n",
    "\"\"\"\n",
    "\n",
    "# Test dan bandingkan hasil\n",
    "test_context = \"Data pegawai dari database yang sudah dibuat\"\n",
    "\n",
    "print(\"=== PROMPT VERSION 1 ===\")\n",
    "result1 = generate_llm_response(prompt_v1, test_context)\n",
    "print(result1)\n",
    "\n",
    "print(\"\\n=== PROMPT VERSION 2 ===\")\n",
    "result2 = generate_llm_response(prompt_v2, test_context)\n",
    "print(result2)\n",
    "\n",
    "print(\"\\n=== PROMPT VERSION 3 ===\")\n",
    "result3 = generate_llm_response(prompt_v3, test_context)\n",
    "print(result3)"
   ]
  },
  {
   "cell_type": "markdown",
   "metadata": {
    "id": "ZlXCKRAtbOc4"
   },
   "source": [
    "## REFLEKSI & EVALUASI\n",
    "\n",
    "### Pertanyaan Refleksi:\n",
    "1. Dari pengalaman mengerjakan soal ini, apa tantangan terbesar yang Anda hadapi?\n",
    "2. Apa ide pengembangan AI yang ingin Anda implementasikan di Kominfo/Komdigi?\n",
    "\n",
    "**Jawaban:**\n",
    "```\n",
    "Tulis refleksi Anda di sini...\n",
    "```\n",
    "\n",
    "---"
   ]
  }
 ],
 "metadata": {
  "colab": {
   "collapsed_sections": [
    "zhuQ74b_bOc3"
   ],
   "provenance": []
  },
  "kernelspec": {
   "display_name": "Python 3",
   "language": "python",
   "name": "python3"
  },
  "language_info": {
   "codemirror_mode": {
    "name": "ipython",
    "version": 3
   },
   "file_extension": ".py",
   "mimetype": "text/x-python",
   "name": "python",
   "nbconvert_exporter": "python",
   "pygments_lexer": "ipython3",
   "version": "3.12.0"
  }
 },
 "nbformat": 4,
 "nbformat_minor": 0
}
